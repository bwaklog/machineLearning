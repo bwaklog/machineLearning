{
 "cells": [
  {
   "cell_type": "code",
   "execution_count": 2,
   "id": "a080380a",
   "metadata": {},
   "outputs": [
    {
     "name": "stdout",
     "output_type": "stream",
     "text": [
      "Tensorflow Version:2.12.0\n"
     ]
    }
   ],
   "source": [
    "import tensorflow as tf\n",
    "from tensorflow import keras\n",
    "\n",
    "print(f\"Tensorflow Version:{tf.__version__}\")"
   ]
  },
  {
   "cell_type": "markdown",
   "id": "e54b4142",
   "metadata": {},
   "source": [
    "We are going to use `Fashion MNIST dataaset` for grayscale 28x28 pixel clothing images. They are labeled 0->10\n",
    " 0. T-shirt/top\n",
    " 1. Trouser\n",
    " 2. Pullover\n",
    " 3. Dress\n",
    " 4. Coat\n",
    " 5. Sandals\n",
    " 6. Shirt\n",
    " 7. Sneakers\n",
    " 8. Bag\n",
    " 9. Ankle boots\n",
    " \n",
    "The dataset is available in the `tf.keras.dataset` API"
   ]
  },
  {
   "cell_type": "code",
   "execution_count": 3,
   "id": "012fa307",
   "metadata": {},
   "outputs": [],
   "source": [
    "# Load the Fashion MNIST dataset\n",
    "fmnist = keras.datasets.fashion_mnist"
   ]
  },
  {
   "cell_type": "markdown",
   "id": "7810e2c5",
   "metadata": {},
   "source": [
    "Calling `load_data()` on this object will give 2 tuples with two lists each. These will be training and testing values for the graphics that contain the clothing items and their labels."
   ]
  },
  {
   "cell_type": "code",
   "execution_count": 5,
   "id": "00e20f0b",
   "metadata": {},
   "outputs": [
    {
     "name": "stdout",
     "output_type": "stream",
     "text": [
      "((array([[[0, 0, 0, ..., 0, 0, 0],\n",
      "        [0, 0, 0, ..., 0, 0, 0],\n",
      "        [0, 0, 0, ..., 0, 0, 0],\n",
      "        ...,\n",
      "        [0, 0, 0, ..., 0, 0, 0],\n",
      "        [0, 0, 0, ..., 0, 0, 0],\n",
      "        [0, 0, 0, ..., 0, 0, 0]],\n",
      "\n",
      "       [[0, 0, 0, ..., 0, 0, 0],\n",
      "        [0, 0, 0, ..., 0, 0, 0],\n",
      "        [0, 0, 0, ..., 0, 0, 0],\n",
      "        ...,\n",
      "        [0, 0, 0, ..., 0, 0, 0],\n",
      "        [0, 0, 0, ..., 0, 0, 0],\n",
      "        [0, 0, 0, ..., 0, 0, 0]],\n",
      "\n",
      "       [[0, 0, 0, ..., 0, 0, 0],\n",
      "        [0, 0, 0, ..., 0, 0, 0],\n",
      "        [0, 0, 0, ..., 0, 0, 0],\n",
      "        ...,\n",
      "        [0, 0, 0, ..., 0, 0, 0],\n",
      "        [0, 0, 0, ..., 0, 0, 0],\n",
      "        [0, 0, 0, ..., 0, 0, 0]],\n",
      "\n",
      "       ...,\n",
      "\n",
      "       [[0, 0, 0, ..., 0, 0, 0],\n",
      "        [0, 0, 0, ..., 0, 0, 0],\n",
      "        [0, 0, 0, ..., 0, 0, 0],\n",
      "        ...,\n",
      "        [0, 0, 0, ..., 0, 0, 0],\n",
      "        [0, 0, 0, ..., 0, 0, 0],\n",
      "        [0, 0, 0, ..., 0, 0, 0]],\n",
      "\n",
      "       [[0, 0, 0, ..., 0, 0, 0],\n",
      "        [0, 0, 0, ..., 0, 0, 0],\n",
      "        [0, 0, 0, ..., 0, 0, 0],\n",
      "        ...,\n",
      "        [0, 0, 0, ..., 0, 0, 0],\n",
      "        [0, 0, 0, ..., 0, 0, 0],\n",
      "        [0, 0, 0, ..., 0, 0, 0]],\n",
      "\n",
      "       [[0, 0, 0, ..., 0, 0, 0],\n",
      "        [0, 0, 0, ..., 0, 0, 0],\n",
      "        [0, 0, 0, ..., 0, 0, 0],\n",
      "        ...,\n",
      "        [0, 0, 0, ..., 0, 0, 0],\n",
      "        [0, 0, 0, ..., 0, 0, 0],\n",
      "        [0, 0, 0, ..., 0, 0, 0]]], dtype=uint8), array([9, 0, 0, ..., 3, 0, 5], dtype=uint8)), (array([[[0, 0, 0, ..., 0, 0, 0],\n",
      "        [0, 0, 0, ..., 0, 0, 0],\n",
      "        [0, 0, 0, ..., 0, 0, 0],\n",
      "        ...,\n",
      "        [0, 0, 0, ..., 0, 0, 0],\n",
      "        [0, 0, 0, ..., 0, 0, 0],\n",
      "        [0, 0, 0, ..., 0, 0, 0]],\n",
      "\n",
      "       [[0, 0, 0, ..., 0, 0, 0],\n",
      "        [0, 0, 0, ..., 0, 0, 0],\n",
      "        [0, 0, 0, ..., 0, 0, 0],\n",
      "        ...,\n",
      "        [0, 0, 0, ..., 0, 0, 0],\n",
      "        [0, 0, 0, ..., 0, 0, 0],\n",
      "        [0, 0, 0, ..., 0, 0, 0]],\n",
      "\n",
      "       [[0, 0, 0, ..., 0, 0, 0],\n",
      "        [0, 0, 0, ..., 0, 0, 0],\n",
      "        [0, 0, 0, ..., 0, 0, 0],\n",
      "        ...,\n",
      "        [0, 0, 0, ..., 0, 0, 0],\n",
      "        [0, 0, 0, ..., 0, 0, 0],\n",
      "        [0, 0, 0, ..., 0, 0, 0]],\n",
      "\n",
      "       ...,\n",
      "\n",
      "       [[0, 0, 0, ..., 0, 0, 0],\n",
      "        [0, 0, 0, ..., 0, 0, 0],\n",
      "        [0, 0, 0, ..., 0, 0, 0],\n",
      "        ...,\n",
      "        [0, 0, 0, ..., 0, 0, 0],\n",
      "        [0, 0, 0, ..., 0, 0, 0],\n",
      "        [0, 0, 0, ..., 0, 0, 0]],\n",
      "\n",
      "       [[0, 0, 0, ..., 0, 0, 0],\n",
      "        [0, 0, 0, ..., 0, 0, 0],\n",
      "        [0, 0, 0, ..., 0, 0, 0],\n",
      "        ...,\n",
      "        [0, 0, 0, ..., 0, 0, 0],\n",
      "        [0, 0, 0, ..., 0, 0, 0],\n",
      "        [0, 0, 0, ..., 0, 0, 0]],\n",
      "\n",
      "       [[0, 0, 0, ..., 0, 0, 0],\n",
      "        [0, 0, 0, ..., 0, 0, 0],\n",
      "        [0, 0, 0, ..., 0, 0, 0],\n",
      "        ...,\n",
      "        [0, 0, 0, ..., 0, 0, 0],\n",
      "        [0, 0, 0, ..., 0, 0, 0],\n",
      "        [0, 0, 0, ..., 0, 0, 0]]], dtype=uint8), array([9, 2, 1, ..., 8, 1, 5], dtype=uint8)))\n"
     ]
    }
   ],
   "source": [
    "# Displaying the fmnist dataset. Shows 2 tuples with 2 lists each\n",
    "print(fmnist.load_data())"
   ]
  },
  {
   "cell_type": "code",
   "execution_count": 6,
   "id": "57b3f660",
   "metadata": {},
   "outputs": [],
   "source": [
    "# We store these lists in variables\n",
    "(training_images, training_labels), (test_images, test_labels) = fmnist.load_data()"
   ]
  },
  {
   "cell_type": "markdown",
   "id": "a962df55",
   "metadata": {},
   "source": [
    "What would these look like?\n",
    "\n",
    "We can print a training image(both as an image and a numpy array), and a training label to visualize it."
   ]
  },
  {
   "cell_type": "code",
   "execution_count": 16,
   "id": "1caeb2af",
   "metadata": {},
   "outputs": [
    {
     "name": "stdout",
     "output_type": "stream",
     "text": [
      "LABEL: 3\n",
      "\n",
      "IMAGE PIXEL ARRAY:\n",
      " [[  0   0   0   0   0   0   0   0   0   0   0  68  89  15  68  92  20   0   0   1   0   0   0   0   0   0   0   0]\n",
      " [  0   0   0   0   0   0   0   0   0  13 169 201 188 225 185 187 175 119   0   0   0   0   0   0   0   0   0   0]\n",
      " [  0   0   0   0   0   0   0   0   0 158 239 188 161 167 142 191 199 193   0   0   0   0   0   0   0   0   0   0]\n",
      " [  0   0   0   0   0   0   0   0   0 158 227 219 191 186 146 207 224 219  48   0   0   0   0   0   0   0   0   0]\n",
      " [  0   0   0   0   0   0   0   0   0 171 228 235 227 202 217 231 231 226  95   0   0   0   0   0   0   0   0   0]\n",
      " [  0   0   0   0   0   0   0   0   0 182 227 235 234 245 245 234 235 233 168   0   0   0   0   0   0   0   0   0]\n",
      " [  0   0   0   0   0   0   0   0   0 253 184 215 244 231 229 255 138 193 215   0   0   0   0   0   0   0   0   0]\n",
      " [  0   0   0   0   0   0   0   0   0 255  93 190 254 231 223 255  64 166 254   0   0   0   0   0   0   0   0   0]\n",
      " [  0   0   0   0   0   0   0   0   3 255  88 180 254 228 222 255  67 128 255   0   0   0   0   0   0   0   0   0]\n",
      " [  0   0   0   0   0   0   0   0  43 255 112 201 252 230 228 255 150 131 235  17   0   0   0   0   0   0   0   0]\n",
      " [  0   0   0   0   0   0   0   0  67 196 212 228 235 231 230 240 224 203 224  75   0   0   0   0   0   0   0   0]\n",
      " [  0   0   0   0   0   0   0   0 151 205 235 231 233 231 235 234 237 223 218 155   0   0   0   0   0   0   0   0]\n",
      " [  0   0   0   0   0   0   0   0  82 114 216 236 231 234 233 234 240 192 118  24   0   0   0   0   0   0   0   0]\n",
      " [  0   0   0   0   0   0   0   0   0   0 199 246 231 236 235 234 251 159   0   0   0   0   0   0   0   0   0   0]\n",
      " [  0   0   0   0   0   0   0   0   0   0 254 241 232 237 234 235 246 218   0   0   0   0   0   0   0   0   0   0]\n",
      " [  0   0   0   0   0   0   0   0   0   0 230 239 231 239 233 236 242 209   0   0   0   0   0   0   0   0   0   0]\n",
      " [  0   0   0   0   0   0   0   0   0   6 238 238 233 239 235 238 239 228   0   0   0   0   0   0   0   0   0   0]\n",
      " [  0   0   0   0   0   0   0   0   0  49 248 236 236 240 236 239 237 241   4   0   0   0   0   0   0   0   0   0]\n",
      " [  0   0   0   0   0   0   0   0   0  81 254 236 233 240 236 239 237 247  37   0   0   0   0   0   0   0   0   0]\n",
      " [  0   0   0   0   0   0   0   0   0 127 253 238 233 239 235 241 235 254  66   0   0   0   0   0   0   0   0   0]\n",
      " [  0   0   0   0   0   0   0   0   0 174 250 240 234 240 238 240 236 254 119   0   0   0   0   0   0   0   0   0]\n",
      " [  0   0   0   0   0   0   0   0   0 201 247 240 236 238 240 240 237 254 175   0   0   0   0   0   0   0   0   0]\n",
      " [  0   0   0   0   0   0   0   0   0 197 247 240 235 239 237 241 239 252 219   0   0   0   0   0   0   0   0   0]\n",
      " [  0   0   0   0   0   0   0   0   0 217 246 243 237 240 249 242 239 250 206   0   0   0   0   0   0   0   0   0]\n",
      " [  0   0   0   0   0   0   0   0   0 219 226 224 237 237 222 230 237 212 203   1   0   0   0   0   0   0   0   0]\n",
      " [  0   0   0   0   0   0   0   0  14 199 198 194 185 207 158 194 237 181 217  37   0   0   0   0   0   0   0   0]\n",
      " [  0   0   0   0   0   0   0   0  39 199 164 175 205 216 176 205 216 135 215  43   0   0   0   0   0   0   0   0]\n",
      " [  0   0   0   0   0   0   0   0   0   0   0   0  66  10   0   3   0   0   0   0   0   0   0   0   0   0   0   0]]\n"
     ]
    },
    {
     "data": {
      "text/plain": [
       "<matplotlib.image.AxesImage at 0x281511cc0>"
      ]
     },
     "execution_count": 16,
     "metadata": {},
     "output_type": "execute_result"
    },
    {
     "data": {
      "image/png": "[encoded data removed]",
      "text/plain": [
       "<Figure size 640x480 with 1 Axes>"
      ]
     },
     "metadata": {},
     "output_type": "display_data"
    }
   ],
   "source": [
    "import numpy as np\n",
    "import matplotlib.pyplot as plt\n",
    "\n",
    "# You can put between 0 to 59999 here - which image\n",
    "index = 2004\n",
    "\n",
    "# Set number of characters per row when printing\n",
    "np.set_printoptions(linewidth=320)\n",
    "\n",
    "# Print the label and image\n",
    "print(f'LABEL: {training_labels[index]}')\n",
    "print(f'\\nIMAGE PIXEL ARRAY:\\n {training_images[index]}')\n",
    "\n",
    "# visualize the image\n",
    "plt.imshow(training_images[index], cmap='Greys')"
   ]
  },
  {
   "cell_type": "markdown",
   "id": "0943e9f9",
   "metadata": {},
   "source": [
    "Here each pixel value is between 0 and 255. For **neural networks** especially in _image processing_, it is always a good practice to scale the values between 0 and 1. This process is called _**normalization**_ and we can normalize an array without looping by doing the following"
   ]
  },
  {
   "cell_type": "code",
   "execution_count": 17,
   "id": "c8399bda",
   "metadata": {},
   "outputs": [],
   "source": [
    "# Normalize the pixel values of the train and test images\n",
    "training_images = training_images / 255.0\n",
    "test_images = test_images / 255.0"
   ]
  },
  {
   "cell_type": "markdown",
   "id": "87811110",
   "metadata": {},
   "source": [
    "## Desigining the model"
   ]
  },
  {
   "cell_type": "code",
   "execution_count": 18,
   "id": "735d4a41",
   "metadata": {},
   "outputs": [
    {
     "name": "stdout",
     "output_type": "stream",
     "text": [
      "Metal device set to: Apple M1\n"
     ]
    }
   ],
   "source": [
    "# Build the classification model\n",
    "model = keras.models.Sequential([keras.layers.Flatten(),\n",
    "                                 keras.layers.Dense(128, activation=tf.nn.relu),\n",
    "                                 keras.layers.Dense(10, activation=tf.nn.softmax)])"
   ]
  },
  {
   "cell_type": "markdown",
   "id": "f8e867f0",
   "metadata": {},
   "source": [
    "**Sequential:** Defines a sequence of layers in the neural network.\n",
    "\n",
    "**Flatten:** The images are 28x28 pixel matrices. Flatten takes the 2D              square and turns it into a 1D array.\n",
    "\n",
    "**Dense:** Adds a layer of neurons. Each layer of neuraons needs an `activation function` to tell them what to do.\n",
    "\n",
    "**ReLU:** It passes values 0 or greater to the next layer in the network\n",
    "\n",
    "```python\n",
    "if x > 0:\n",
    "    returnx\n",
    "else:\n",
    "    return 0\n",
    "```\n",
    "\n",
    "**Softmax:** takes a list of values and scales these to the sum of all the elements whill be equal to 1. When applied to model outputs, you can think of the scaled values as the probability for the class. For example, in the calssification model which has 10 units in the output dense layer, having the highest value at index=4 means that the model is _MOST_ confident that the input clothing is a COAT. If the index=5, then it is sandals and so fourth. "
   ]
  },
  {
   "cell_type": "code",
   "execution_count": 22,
   "id": "ed8fa97b",
   "metadata": {},
   "outputs": [
    {
     "name": "stdout",
     "output_type": "stream",
     "text": [
      "input to softmax function: [[1. 3. 4. 2.]]\n",
      "output of softmax fucntion: [[0.0320586  0.23688282 0.64391426 0.08714432]]\n",
      "sum of outputs: 1.0\n",
      "class with highest probability: 2\n"
     ]
    }
   ],
   "source": [
    "# Declare sample inputs and convert to a tensor\n",
    "inputs = np.array([[1.0, 3.0, 4.0, 2.0]])\n",
    "inputs = tf.convert_to_tensor(inputs)\n",
    "print(f'input to softmax function: {inputs.numpy()}')\n",
    "\n",
    "# Feed the inputs to a softmax activation function\n",
    "outputs = tf.keras.activations.softmax(inputs)\n",
    "print(f'output of softmax fucntion: {outputs.numpy()}')\n",
    "\n",
    "# Get the sum of all values after the softmax\n",
    "sum = tf.reduce_sum(outputs)\n",
    "print(f'sum of outputs: {sum}')\n",
    "\n",
    "# Get the index with highest value\n",
    "prediction = np.argmax(outputs)\n",
    "print(f'class with highest probability: {prediction}')"
   ]
  },
  {
   "cell_type": "markdown",
   "id": "5828f33b",
   "metadata": {},
   "source": [
    "This model is untrainined. \n",
    "\n",
    "Now that the model is defined, we have to build the mode. We can compile it with an optimizer and a loss function. Then call `model.fit()` to fit the training data to your training labels."
   ]
  },
  {
   "cell_type": "code",
   "execution_count": 26,
   "id": "7416e1c4",
   "metadata": {},
   "outputs": [
    {
     "name": "stdout",
     "output_type": "stream",
     "text": [
      "Epoch 1/100\n",
      "1875/1875 [==============================] - 8s 4ms/step - loss: 0.2319 - accuracy: 0.9126\n",
      "Epoch 2/100\n",
      "1875/1875 [==============================] - 8s 4ms/step - loss: 0.2228 - accuracy: 0.9162\n",
      "Epoch 3/100\n",
      "1875/1875 [==============================] - 8s 4ms/step - loss: 0.2162 - accuracy: 0.9183\n",
      "Epoch 4/100\n",
      "1875/1875 [==============================] - 8s 4ms/step - loss: 0.2098 - accuracy: 0.9204\n",
      "Epoch 5/100\n",
      "1875/1875 [==============================] - 8s 4ms/step - loss: 0.2052 - accuracy: 0.9232\n",
      "Epoch 6/100\n",
      "1875/1875 [==============================] - 8s 4ms/step - loss: 0.1977 - accuracy: 0.9262\n",
      "Epoch 7/100\n",
      "1875/1875 [==============================] - 8s 4ms/step - loss: 0.1931 - accuracy: 0.9273\n",
      "Epoch 8/100\n",
      "1875/1875 [==============================] - 8s 4ms/step - loss: 0.1898 - accuracy: 0.9278\n",
      "Epoch 9/100\n",
      "1875/1875 [==============================] - 8s 4ms/step - loss: 0.1840 - accuracy: 0.9311\n",
      "Epoch 10/100\n",
      "1875/1875 [==============================] - 8s 4ms/step - loss: 0.1794 - accuracy: 0.9332\n",
      "Epoch 11/100\n",
      "1875/1875 [==============================] - 8s 4ms/step - loss: 0.1750 - accuracy: 0.9354\n",
      "Epoch 12/100\n",
      "1875/1875 [==============================] - 8s 4ms/step - loss: 0.1701 - accuracy: 0.9367\n",
      "Epoch 13/100\n",
      "1875/1875 [==============================] - 8s 4ms/step - loss: 0.1643 - accuracy: 0.9383\n",
      "Epoch 14/100\n",
      "1875/1875 [==============================] - 8s 4ms/step - loss: 0.1599 - accuracy: 0.9399\n",
      "Epoch 15/100\n",
      "1875/1875 [==============================] - 9s 5ms/step - loss: 0.1578 - accuracy: 0.9399\n",
      "Epoch 16/100\n",
      "1875/1875 [==============================] - 8s 4ms/step - loss: 0.1544 - accuracy: 0.9414\n",
      "Epoch 17/100\n",
      "1875/1875 [==============================] - 8s 4ms/step - loss: 0.1509 - accuracy: 0.9442\n",
      "Epoch 18/100\n",
      "1875/1875 [==============================] - 8s 4ms/step - loss: 0.1492 - accuracy: 0.9441\n",
      "Epoch 19/100\n",
      "1875/1875 [==============================] - 8s 4ms/step - loss: 0.1465 - accuracy: 0.9447\n",
      "Epoch 20/100\n",
      "1875/1875 [==============================] - 8s 4ms/step - loss: 0.1397 - accuracy: 0.9479\n",
      "Epoch 21/100\n",
      "1875/1875 [==============================] - 8s 4ms/step - loss: 0.1386 - accuracy: 0.9482\n",
      "Epoch 22/100\n",
      "1875/1875 [==============================] - 8s 5ms/step - loss: 0.1370 - accuracy: 0.9493\n",
      "Epoch 23/100\n",
      "1875/1875 [==============================] - 8s 4ms/step - loss: 0.1330 - accuracy: 0.9500\n",
      "Epoch 24/100\n",
      "1875/1875 [==============================] - 8s 4ms/step - loss: 0.1309 - accuracy: 0.9510\n",
      "Epoch 25/100\n",
      "1875/1875 [==============================] - 8s 4ms/step - loss: 0.1289 - accuracy: 0.9513\n",
      "Epoch 26/100\n",
      "1875/1875 [==============================] - 8s 4ms/step - loss: 0.1241 - accuracy: 0.9523\n",
      "Epoch 27/100\n",
      "1875/1875 [==============================] - 8s 4ms/step - loss: 0.1246 - accuracy: 0.9530\n",
      "Epoch 28/100\n",
      "1875/1875 [==============================] - 8s 4ms/step - loss: 0.1213 - accuracy: 0.9539\n",
      "Epoch 29/100\n",
      "1875/1875 [==============================] - 8s 4ms/step - loss: 0.1184 - accuracy: 0.9546\n",
      "Epoch 30/100\n",
      "1875/1875 [==============================] - 8s 4ms/step - loss: 0.1141 - accuracy: 0.9568\n",
      "Epoch 31/100\n",
      "1875/1875 [==============================] - 8s 4ms/step - loss: 0.1152 - accuracy: 0.9564\n",
      "Epoch 32/100\n",
      "1875/1875 [==============================] - 8s 4ms/step - loss: 0.1112 - accuracy: 0.9583\n",
      "Epoch 33/100\n",
      "1875/1875 [==============================] - 8s 4ms/step - loss: 0.1101 - accuracy: 0.9585\n",
      "Epoch 34/100\n",
      "1875/1875 [==============================] - 8s 4ms/step - loss: 0.1088 - accuracy: 0.9589\n",
      "Epoch 35/100\n",
      "1875/1875 [==============================] - 8s 4ms/step - loss: 0.1034 - accuracy: 0.9611\n",
      "Epoch 36/100\n",
      "1875/1875 [==============================] - 8s 4ms/step - loss: 0.1038 - accuracy: 0.9609\n",
      "Epoch 37/100\n",
      "1875/1875 [==============================] - 8s 4ms/step - loss: 0.1020 - accuracy: 0.9621\n",
      "Epoch 38/100\n",
      "1875/1875 [==============================] - 8s 4ms/step - loss: 0.1004 - accuracy: 0.9615\n",
      "Epoch 39/100\n",
      "1875/1875 [==============================] - 8s 4ms/step - loss: 0.0972 - accuracy: 0.9633\n",
      "Epoch 40/100\n",
      "1875/1875 [==============================] - 8s 4ms/step - loss: 0.0981 - accuracy: 0.9630\n",
      "Epoch 41/100\n",
      "1875/1875 [==============================] - 8s 4ms/step - loss: 0.0953 - accuracy: 0.9639\n",
      "Epoch 42/100\n",
      "1875/1875 [==============================] - 8s 4ms/step - loss: 0.0936 - accuracy: 0.9646\n",
      "Epoch 43/100\n",
      "1875/1875 [==============================] - 8s 4ms/step - loss: 0.0904 - accuracy: 0.9663\n",
      "Epoch 44/100\n",
      "1875/1875 [==============================] - 8s 4ms/step - loss: 0.0924 - accuracy: 0.9660\n",
      "Epoch 45/100\n",
      "1875/1875 [==============================] - 8s 4ms/step - loss: 0.0861 - accuracy: 0.9671\n",
      "Epoch 46/100\n",
      "1875/1875 [==============================] - 8s 4ms/step - loss: 0.0918 - accuracy: 0.9652\n",
      "Epoch 47/100\n",
      "1875/1875 [==============================] - 8s 4ms/step - loss: 0.0844 - accuracy: 0.9682\n",
      "Epoch 48/100\n",
      "1875/1875 [==============================] - 8s 4ms/step - loss: 0.0865 - accuracy: 0.9678\n",
      "Epoch 49/100\n",
      "1875/1875 [==============================] - 8s 4ms/step - loss: 0.0863 - accuracy: 0.9675\n",
      "Epoch 50/100\n",
      "1875/1875 [==============================] - 8s 4ms/step - loss: 0.0829 - accuracy: 0.9684\n",
      "Epoch 51/100\n",
      "1875/1875 [==============================] - 8s 4ms/step - loss: 0.0823 - accuracy: 0.9692\n",
      "Epoch 52/100\n",
      "1875/1875 [==============================] - 8s 4ms/step - loss: 0.0824 - accuracy: 0.9692\n",
      "Epoch 53/100\n",
      "1875/1875 [==============================] - 8s 4ms/step - loss: 0.0813 - accuracy: 0.9695\n",
      "Epoch 54/100\n",
      "1875/1875 [==============================] - 8s 4ms/step - loss: 0.0806 - accuracy: 0.9702\n",
      "Epoch 55/100\n",
      "1875/1875 [==============================] - 8s 4ms/step - loss: 0.0771 - accuracy: 0.9708\n",
      "Epoch 56/100\n",
      "1875/1875 [==============================] - 8s 4ms/step - loss: 0.0760 - accuracy: 0.9716\n",
      "Epoch 57/100\n",
      "1875/1875 [==============================] - 8s 4ms/step - loss: 0.0736 - accuracy: 0.9726\n",
      "Epoch 58/100\n",
      "1875/1875 [==============================] - 8s 4ms/step - loss: 0.0766 - accuracy: 0.9710\n",
      "Epoch 59/100\n",
      "1875/1875 [==============================] - 8s 4ms/step - loss: 0.0715 - accuracy: 0.9733\n",
      "Epoch 60/100\n",
      "1875/1875 [==============================] - 8s 4ms/step - loss: 0.0733 - accuracy: 0.9722\n",
      "Epoch 61/100\n",
      "1875/1875 [==============================] - 8s 4ms/step - loss: 0.0705 - accuracy: 0.9736\n",
      "Epoch 62/100\n",
      "1875/1875 [==============================] - 8s 4ms/step - loss: 0.0686 - accuracy: 0.9742\n",
      "Epoch 63/100\n",
      "1875/1875 [==============================] - 8s 4ms/step - loss: 0.0694 - accuracy: 0.9741\n",
      "Epoch 64/100\n",
      "1875/1875 [==============================] - 8s 4ms/step - loss: 0.0671 - accuracy: 0.9752\n",
      "Epoch 65/100\n",
      "1875/1875 [==============================] - 8s 4ms/step - loss: 0.0679 - accuracy: 0.9746\n",
      "Epoch 66/100\n",
      "1875/1875 [==============================] - 8s 4ms/step - loss: 0.0676 - accuracy: 0.9748\n",
      "Epoch 67/100\n",
      "1875/1875 [==============================] - 8s 4ms/step - loss: 0.0649 - accuracy: 0.9755\n",
      "Epoch 68/100\n",
      "1875/1875 [==============================] - 8s 4ms/step - loss: 0.0667 - accuracy: 0.9750\n",
      "Epoch 69/100\n",
      "1875/1875 [==============================] - 8s 4ms/step - loss: 0.0652 - accuracy: 0.9761\n",
      "Epoch 70/100\n",
      "1875/1875 [==============================] - 8s 4ms/step - loss: 0.0625 - accuracy: 0.9758\n",
      "Epoch 71/100\n",
      "1875/1875 [==============================] - 8s 4ms/step - loss: 0.0632 - accuracy: 0.9766\n",
      "Epoch 72/100\n",
      "1875/1875 [==============================] - 8s 4ms/step - loss: 0.0615 - accuracy: 0.9768\n",
      "Epoch 73/100\n",
      "1875/1875 [==============================] - 8s 4ms/step - loss: 0.0624 - accuracy: 0.9769\n",
      "Epoch 74/100\n",
      "1875/1875 [==============================] - 8s 4ms/step - loss: 0.0633 - accuracy: 0.9761\n",
      "Epoch 75/100\n",
      "1875/1875 [==============================] - 8s 4ms/step - loss: 0.0589 - accuracy: 0.9780\n",
      "Epoch 76/100\n",
      "1875/1875 [==============================] - 8s 4ms/step - loss: 0.0614 - accuracy: 0.9769\n",
      "Epoch 77/100\n",
      "1875/1875 [==============================] - 8s 4ms/step - loss: 0.0574 - accuracy: 0.9789\n",
      "Epoch 78/100\n",
      "1875/1875 [==============================] - 8s 4ms/step - loss: 0.0580 - accuracy: 0.9782\n",
      "Epoch 79/100\n"
     ]
    },
    {
     "name": "stdout",
     "output_type": "stream",
     "text": [
      "1875/1875 [==============================] - 8s 4ms/step - loss: 0.0574 - accuracy: 0.9792\n",
      "Epoch 80/100\n",
      "1875/1875 [==============================] - 8s 4ms/step - loss: 0.0586 - accuracy: 0.9779\n",
      "Epoch 81/100\n",
      "1875/1875 [==============================] - 8s 4ms/step - loss: 0.0538 - accuracy: 0.9797\n",
      "Epoch 82/100\n",
      "1875/1875 [==============================] - 8s 4ms/step - loss: 0.0575 - accuracy: 0.9779\n",
      "Epoch 83/100\n",
      "1875/1875 [==============================] - 8s 4ms/step - loss: 0.0516 - accuracy: 0.9808\n",
      "Epoch 84/100\n",
      "1875/1875 [==============================] - 8s 4ms/step - loss: 0.0543 - accuracy: 0.9795\n",
      "Epoch 85/100\n",
      "1875/1875 [==============================] - 8s 4ms/step - loss: 0.0556 - accuracy: 0.9791\n",
      "Epoch 86/100\n",
      "1875/1875 [==============================] - 8s 4ms/step - loss: 0.0519 - accuracy: 0.9802\n",
      "Epoch 87/100\n",
      "1875/1875 [==============================] - 8s 4ms/step - loss: 0.0542 - accuracy: 0.9798\n",
      "Epoch 88/100\n",
      "1875/1875 [==============================] - 8s 4ms/step - loss: 0.0520 - accuracy: 0.9809\n",
      "Epoch 89/100\n",
      "1875/1875 [==============================] - 8s 4ms/step - loss: 0.0512 - accuracy: 0.9808\n",
      "Epoch 90/100\n",
      "1875/1875 [==============================] - 8s 4ms/step - loss: 0.0541 - accuracy: 0.9800\n",
      "Epoch 91/100\n",
      "1875/1875 [==============================] - 8s 4ms/step - loss: 0.0492 - accuracy: 0.9813\n",
      "Epoch 92/100\n",
      "1875/1875 [==============================] - 8s 4ms/step - loss: 0.0506 - accuracy: 0.9815\n",
      "Epoch 93/100\n",
      "1875/1875 [==============================] - 8s 4ms/step - loss: 0.0495 - accuracy: 0.9814\n",
      "Epoch 94/100\n",
      "1875/1875 [==============================] - 8s 4ms/step - loss: 0.0491 - accuracy: 0.9817\n",
      "Epoch 95/100\n",
      "1875/1875 [==============================] - 8s 4ms/step - loss: 0.0503 - accuracy: 0.9807\n",
      "Epoch 96/100\n",
      "1875/1875 [==============================] - 8s 4ms/step - loss: 0.0469 - accuracy: 0.9830\n",
      "Epoch 97/100\n",
      "1875/1875 [==============================] - 8s 4ms/step - loss: 0.0497 - accuracy: 0.9814\n",
      "Epoch 98/100\n",
      "1875/1875 [==============================] - 8s 4ms/step - loss: 0.0473 - accuracy: 0.9823\n",
      "Epoch 99/100\n",
      "1875/1875 [==============================] - 8s 4ms/step - loss: 0.0465 - accuracy: 0.9832\n",
      "Epoch 100/100\n",
      "1875/1875 [==============================] - 8s 4ms/step - loss: 0.0451 - accuracy: 0.9831\n"
     ]
    },
    {
     "data": {
      "text/plain": [
       "<keras.callbacks.History at 0x29e437e80>"
      ]
     },
     "execution_count": 26,
     "metadata": {},
     "output_type": "execute_result"
    }
   ],
   "source": [
    "model.compile(optimizer=tf.optimizers.legacy.Adam(),\n",
    "             loss='sparse_categorical_crossentropy',\n",
    "             metrics=['accuracy'])\n",
    "\n",
    "model.fit(training_images, training_labels, epochs=100)"
   ]
  },
  {
   "cell_type": "markdown",
   "id": "2c516ea1",
   "metadata": {},
   "source": [
    "Once training is complete, we can see an `accuracy` value at the end of the final epoch. If its 0.9116, that means your neural network is about 91.16% accurate in calssifying the training data. \n",
    "\n",
    "---\n",
    "\n",
    "Now we are going to test it with the test images and labels. We can use call the `model.evaluate()` with the test data as inputs and it will report back the `loss` and `accuracy` of the model"
   ]
  },
  {
   "cell_type": "code",
   "execution_count": 27,
   "id": "c33c7411",
   "metadata": {},
   "outputs": [
    {
     "name": "stdout",
     "output_type": "stream",
     "text": [
      "313/313 [==============================] - 1s 4ms/step - loss: 0.8867 - accuracy: 0.8817\n"
     ]
    },
    {
     "data": {
      "text/plain": [
       "[0.886705756187439, 0.8816999793052673]"
      ]
     },
     "execution_count": 27,
     "metadata": {},
     "output_type": "execute_result"
    }
   ],
   "source": [
    "# Evalluate the model on unseen data -> test_images, test_labels\n",
    "model.evaluate(test_images, test_labels)"
   ]
  },
  {
   "cell_type": "markdown",
   "id": "25aeb3f0",
   "metadata": {},
   "source": [
    "### Saving the Model\n",
    "Models saved in this format can be restored using `tf.keras.models.load_model`"
   ]
  },
  {
   "cell_type": "code",
   "execution_count": 28,
   "id": "36b1a5b1",
   "metadata": {},
   "outputs": [
    {
     "name": "stdout",
     "output_type": "stream",
     "text": [
      "INFO:tensorflow:Assets written to: fmnist_saved_model/my_model/assets\n"
     ]
    },
    {
     "name": "stderr",
     "output_type": "stream",
     "text": [
      "INFO:tensorflow:Assets written to: fmnist_saved_model/my_model/assets\n"
     ]
    }
   ],
   "source": [
    "model.save('fmnist_saved_model/my_model')"
   ]
  }
 ],
 "metadata": {
  "kernelspec": {
   "display_name": "Python 3.10 (tensorflow)",
   "language": "python",
   "name": "tensorflow"
  },
  "language_info": {
   "codemirror_mode": {
    "name": "ipython",
    "version": 3
   },
   "file_extension": ".py",
   "mimetype": "text/x-python",
   "name": "python",
   "nbconvert_exporter": "python",
   "pygments_lexer": "ipython3",
   "version": "3.10.10"
  }
 },
 "nbformat": 4,
 "nbformat_minor": 5
}
